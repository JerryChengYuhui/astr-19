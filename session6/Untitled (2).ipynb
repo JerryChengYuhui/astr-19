{
 "cells": [
  {
   "cell_type": "markdown",
   "id": "f493dde4-65ec-40cc-bfd5-7ed3c44a7af6",
   "metadata": {},
   "source": [
    "# My first Jupyter Notebook\n",
    "This is my **first** *Jupyter Notebook*"
   ]
  },
  {
   "cell_type": "code",
   "execution_count": 1,
   "id": "7b264dac-7cd4-44a3-bc1e-471933328470",
   "metadata": {},
   "outputs": [],
   "source": [
    "import numpy as np"
   ]
  },
  {
   "cell_type": "code",
   "execution_count": 5,
   "id": "9ac8897e-19d2-4c0b-bd8c-7ef1e6cc4ac1",
   "metadata": {},
   "outputs": [],
   "source": [
    "n = 10 #define an integer 10\n",
    "x = np.arange(n,dtype=float) #define an array x=[0,9]"
   ]
  },
  {
   "cell_type": "code",
   "execution_count": 4,
   "id": "6f1c945d-5c76-4d5f-a7cd-dc6e0c385b28",
   "metadata": {},
   "outputs": [
    {
     "name": "stdout",
     "output_type": "stream",
     "text": [
      "[0. 1. 2. 3. 4. 5. 6. 7. 8. 9.]\n"
     ]
    }
   ],
   "source": [
    "print(x)"
   ]
  }
 ],
 "metadata": {
  "kernelspec": {
   "display_name": "Python 3 (ipykernel)",
   "language": "python",
   "name": "python3"
  },
  "language_info": {
   "codemirror_mode": {
    "name": "ipython",
    "version": 3
   },
   "file_extension": ".py",
   "mimetype": "text/x-python",
   "name": "python",
   "nbconvert_exporter": "python",
   "pygments_lexer": "ipython3",
   "version": "3.12.1"
  }
 },
 "nbformat": 4,
 "nbformat_minor": 5
}
